{
 "cells": [
  {
   "cell_type": "code",
   "execution_count": null,
   "id": "1e26658a",
   "metadata": {},
   "outputs": [
    {
     "name": "stdout",
     "output_type": "stream",
     "text": [
      "Welcome to your adventure simulator.\n",
      "I am going to ask you a bunch of questions and then create \u001b[31m an epic story \u001b[0m with you as the star!\n"
     ]
    }
   ],
   "source": [
    "print(\"Welcome to your adventure simulator.\")\n",
    "print(\"I am going to ask you a bunch of questions and then create\",\"\\033[31m\", \"an epic story\",\"\\033[0m\", \"with you as the star!\")\n",
    "name = input(\"What is your name?\")\n",
    "enemy = input(\"What is your worst enemy’s name?\")\n",
    "superpower = input(\"What is your superpower?\")\n",
    "city = input(\"Where do you live?\")\n",
    "food = input(\"What is your favorite food?\")\n",
    "print()\n",
    "print(\"Hello\", name, \"!\")\n",
    "print(\"Your ability to\", \"\\033[35m\", superpower, \"\\033[0m\", \"will make sure you never have to look at\", \"\\033[30m\", enemy, \"\\033[0m\",\"again.\")\n",
    "print(\"Go eat\", \"\\033[32m\", food, \"\\033[0m\", \"as you walk down the streets of\", \"\\033[34m\", city, \"\\033[0m\", \"and use\", superpower, \"for good and\", \"\\033[31m\", \"not evil\",\"\\033[0m\", \"!\")"
   ]
  }
 ],
 "metadata": {
  "kernelspec": {
   "display_name": "Python 3 (ipykernel)",
   "language": "python",
   "name": "python3"
  },
  "language_info": {
   "codemirror_mode": {
    "name": "ipython",
    "version": 3
   },
   "file_extension": ".py",
   "mimetype": "text/x-python",
   "name": "python",
   "nbconvert_exporter": "python",
   "pygments_lexer": "ipython3",
   "version": "3.10.9"
  }
 },
 "nbformat": 4,
 "nbformat_minor": 5
}
