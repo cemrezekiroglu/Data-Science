{
 "cells": [
  {
   "cell_type": "code",
   "execution_count": null,
   "id": "3ea9fb48",
   "metadata": {},
   "outputs": [],
   "source": [
    "print(\"What generation are you a part of?\")\n",
    "year_born = int(input(\"What year were you born?\"))\n",
    "if year_born == 1925 or year_born <=1946:\n",
    "  print(\"You're Traditionalists.\")\n",
    "elif year_born == 1947 or year_born <= 1964:\n",
    "  print(\"You're Baby Boomers.\")\n",
    "elif year_born ==1965 or year_born <=1981:\n",
    "  print(\"You're Generation X.\")\n",
    "elif year_born ==1982 or year_born <=1995:\n",
    "  print(\"You're Millenials.\")\n",
    "elif year_born == 1996 or year_born <=2015:\n",
    "  print(\"You're Generation X.\")\n",
    "else:\n",
    "  print(\"Please check your year of birth and try again!\")"
   ]
  }
 ],
 "metadata": {
  "kernelspec": {
   "display_name": "Python 3 (ipykernel)",
   "language": "python",
   "name": "python3"
  },
  "language_info": {
   "codemirror_mode": {
    "name": "ipython",
    "version": 3
   },
   "file_extension": ".py",
   "mimetype": "text/x-python",
   "name": "python",
   "nbconvert_exporter": "python",
   "pygments_lexer": "ipython3",
   "version": "3.10.9"
  }
 },
 "nbformat": 4,
 "nbformat_minor": 5
}
